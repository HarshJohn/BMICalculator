{
 "cells": [
  {
   "cell_type": "markdown",
   "id": "68c14c6c",
   "metadata": {},
   "source": [
    "# BMI Calculator\n",
    "https://mercer-health.com/services/weight-management-center/bmi-calculator#:~:text=Body%20Mass%20Index%2C%20or%20BMI,inches%20x%20height%20in%20inches"
   ]
  },
  {
   "cell_type": "markdown",
   "id": "90dc492a",
   "metadata": {},
   "source": [
    "#### Project ref:\n",
    "https://github.com/AlexTheAnalyst/PythonYouTubeSeries/blob/main/Python%20Project%20for%20Beginners%20-%20BMI%20Calculator.ipynb"
   ]
  },
  {
   "cell_type": "code",
   "execution_count": 2,
   "id": "793184c7",
   "metadata": {},
   "outputs": [],
   "source": [
    "#BMI = (weight in kg) / (height in meter square)\n",
    "#Cm into meter = cm/100"
   ]
  },
  {
   "cell_type": "code",
   "execution_count": 4,
   "id": "c9846dee-68ae-443f-9cd3-97b244745919",
   "metadata": {},
   "outputs": [
    {
     "name": "stdin",
     "output_type": "stream",
     "text": [
      "Enter your weight in KG: 79\n"
     ]
    }
   ],
   "source": [
    "weight = int(input(\"Enter your weight in KG:\"))"
   ]
  },
  {
   "cell_type": "code",
   "execution_count": 5,
   "id": "a3d661e0-54c3-41e7-9ab9-91bd80a30362",
   "metadata": {},
   "outputs": [
    {
     "name": "stdin",
     "output_type": "stream",
     "text": [
      "Enter your height in CM: 180\n"
     ]
    }
   ],
   "source": [
    "height = int(input(\"Enter your height in CM:\"))"
   ]
  },
  {
   "cell_type": "code",
   "execution_count": 6,
   "id": "b1ff6623-d106-4ff4-87c4-f87669c5c5de",
   "metadata": {},
   "outputs": [],
   "source": [
    "heightInM = height/100"
   ]
  },
  {
   "cell_type": "code",
   "execution_count": 7,
   "id": "6b3b4f74-acd2-48c2-a001-1fc7ac5ff6a3",
   "metadata": {},
   "outputs": [],
   "source": [
    "BMI = weight/heightInM"
   ]
  },
  {
   "cell_type": "code",
   "execution_count": 47,
   "id": "9f01ce70-66e1-4b2d-adc0-74b75b292f6d",
   "metadata": {},
   "outputs": [],
   "source": [
    "def BMI():\n",
    "    print('''\n",
    "    Although BMI is a widely used and useful indicator of healthy body weight, it does have its limitations.\n",
    "    BMI is only an estimate that cannot take body composition into account.\n",
    "    Due to a wide variety of body types as well as distribution of muscle, bone mass, and fat,\n",
    "    BMI should be considered along with other measurements rather than being used as the sole method\n",
    "    for determining a person's healthy body weight.''')\n",
    "    yn = input('''\n",
    "    \n",
    "    Enter 'Y' if you still want to proceed else enter 'N' to leave.''')\n",
    "    if yn == 'Y':\n",
    "        name = input('''\n",
    "        Enter your name:''')\n",
    "        weight = int(input('''\n",
    "        Enter your weight in KG:'''))\n",
    "        height = int(input('''\n",
    "        Enter your height in CM:'''))\n",
    "        heightInM = height/100\n",
    "        bmi = round((weight/heightInM**2), 2)\n",
    "        print('''\n",
    "        {}, your Body Mass Index BMI() for {} KG body weight, and {} CM height is:'''.format(name, weight, height), bmi)\n",
    "        print('''\n",
    "        In conclusion you are:''')\n",
    "        if bmi < 16:\n",
    "            print('''\n",
    "            Severe Thinness''')\n",
    "        elif bmi>=16 and bmi<17:\n",
    "            print('''\n",
    "                  Moderate Thinness''')\n",
    "        elif bmi>=17 and bmi<18.5:\n",
    "            print('''\n",
    "            Mild Thinness''')\n",
    "        elif bmi>=18.5 and bmi<25:\n",
    "            print('''\n",
    "                  Normal''')\n",
    "        elif bmi>=25 and bmi<30:\n",
    "            print('''\n",
    "            Overweight''')\n",
    "        elif bmi>=30 and bmi<35:\n",
    "            print('''\n",
    "                  Obese Class 1''')\n",
    "        elif bmi>=35 and bmi<40:\n",
    "            print('''\n",
    "            Obese Class 2''')\n",
    "        else:\n",
    "            print('''\n",
    "                  Obese Class 3''')\n",
    "    else:\n",
    "        print('''\n",
    "        Thank you for trying out our BMI calculator.\n",
    "        Have a great day!!''')"
   ]
  },
  {
   "cell_type": "code",
   "execution_count": 48,
   "id": "8b4eefe6-9d30-4501-a499-bd85fc5486af",
   "metadata": {},
   "outputs": [
    {
     "name": "stdout",
     "output_type": "stream",
     "text": [
      "\n",
      "    Although BMI is a widely used and useful indicator of healthy body weight, it does have its limitations.\n",
      "    BMI is only an estimate that cannot take body composition into account.\n",
      "    Due to a wide variety of body types as well as distribution of muscle, bone mass, and fat,\n",
      "    BMI should be considered along with other measurements rather than being used as the sole method\n",
      "    for determining a person's healthy body weight.\n"
     ]
    },
    {
     "name": "stdin",
     "output_type": "stream",
     "text": [
      "\n",
      "    \n",
      "    Enter 'Y' if you still want to proceed else enter 'N' to leave. Y\n",
      "\n",
      "        Enter your name: Harsh\n",
      "\n",
      "        Enter your weight in KG: 79\n",
      "\n",
      "        Enter your height in CM: 178\n"
     ]
    },
    {
     "name": "stdout",
     "output_type": "stream",
     "text": [
      "\n",
      "        Harsh, your Body Mass Index BMI() for 79 KG body weight, and 178 CM height is: 24.93\n",
      "\n",
      "        In conclusion you are:\n",
      "\n",
      "                  Normal\n"
     ]
    }
   ],
   "source": [
    "BMI()"
   ]
  },
  {
   "cell_type": "code",
   "execution_count": null,
   "id": "8e803c83-0d2a-4886-8d03-6365f9f0d10a",
   "metadata": {},
   "outputs": [],
   "source": [
    "|"
   ]
  }
 ],
 "metadata": {
  "kernelspec": {
   "display_name": "Python 3 (ipykernel)",
   "language": "python",
   "name": "python3"
  },
  "language_info": {
   "codemirror_mode": {
    "name": "ipython",
    "version": 3
   },
   "file_extension": ".py",
   "mimetype": "text/x-python",
   "name": "python",
   "nbconvert_exporter": "python",
   "pygments_lexer": "ipython3",
   "version": "3.11.1"
  }
 },
 "nbformat": 4,
 "nbformat_minor": 5
}
